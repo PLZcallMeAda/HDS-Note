{
 "cells": [
  {
   "cell_type": "markdown",
   "id": "824aa236",
   "metadata": {},
   "source": [
    "<img src=\"./intro_images/logo.png\" width=\"100%\" align=\"left\" />"
   ]
  },
  {
   "cell_type": "markdown",
   "id": "8f796b55",
   "metadata": {},
   "source": [
    "<table style=\"float:right;\">\n",
    "    <tr>\n",
    "        <td>                      \n",
    "            <div style=\"text-align: right\">Dr Ali Sarrami Foroushani</div>\n",
    "            <div style=\"text-align: right\">Lecturer in Cardiovascular Biomechanics</div>\n",
    "            <div style=\"text-align: right\">School of Health Sciences</div>\n",
    "            <div style=\"text-align: right\">University of Manchester</div>\n",
    "         </td>\n",
    "     </tr>\n",
    "</table>"
   ]
  },
  {
   "cell_type": "markdown",
   "id": "ebf6e097",
   "metadata": {},
   "source": [
    "# Week 1 Summary — Python Programming for Health Data Science\n",
    "\n",
    "This notebook provides a summary of what we cover in the first week. We will go through it together in our face-to-face session. \n"
   ]
  },
  {
   "cell_type": "markdown",
   "id": "f0e61f67",
   "metadata": {},
   "source": [
    "## 1) Variables and Basic Data Structures\n",
    "\n",
    "- **Variables** are named containers for values (e.g., patient age, BMI).\n",
    "- **Core types:** `int`, `float`, `str`, `bool`\n",
    "- **Collections:** `list` (ordered), `tuple` (ordered, immutable), `dict` (key→value), `set` (unique items).\n",
    "\n",
    "**Tiny example (health context):**"
   ]
  },
  {
   "cell_type": "code",
   "execution_count": null,
   "id": "9d15ee5a",
   "metadata": {},
   "outputs": [],
   "source": [
    "# Single values\n",
    "patient_id = \"UOM-00123\"\n",
    "age = 67\n",
    "height_m = 1.68\n",
    "weight_kg = 72.0\n",
    "is_smoker = False\n",
    "\n",
    "# Basic derived value\n",
    "bmi = weight_kg / (height_m ** 2)\n",
    "bmi\n"
   ]
  },
  {
   "cell_type": "markdown",
   "id": "16d90926",
   "metadata": {},
   "source": [
    "**Mini data structures:**"
   ]
  },
  {
   "cell_type": "code",
   "execution_count": null,
   "id": "fe251493",
   "metadata": {},
   "outputs": [],
   "source": [
    "# Lists and dicts for compact patient snapshots\n",
    "medications = [\"atorvastatin\", \"metformin\"]\n",
    "patient = {\n",
    "    \"id\": patient_id,\n",
    "    \"age\": age,\n",
    "    \"bmi\": round(bmi, 1),\n",
    "    \"medications\": medications,\n",
    "}\n",
    "\n",
    "patient, type(medications), type(patient)"
   ]
  },
  {
   "cell_type": "markdown",
   "id": "8f11b72c",
   "metadata": {},
   "source": [
    "**Your Turn (2 min):**  \n",
    "Create a dictionary for a new patient with fields `id`, `age`, `height_m`, `weight_kg` and a computed `bmi`. \n",
    "Print a short f-string summary, e.g. `\"UOM-00001 → BMI 24.7\"`.\n"
   ]
  },
  {
   "cell_type": "code",
   "execution_count": 18,
   "id": "ac99865d",
   "metadata": {},
   "outputs": [],
   "source": [
    "# Add your code here"
   ]
  },
  {
   "cell_type": "markdown",
   "id": "4dc50c76",
   "metadata": {},
   "source": [
    "## 2) Operators\n",
    "\n",
    "- **Arithmetic:** `+ - * / // % **`\n",
    "- **Comparison:** `== != < <= > >=`\n",
    "- **Logical:** `and or not`\n",
    "- **Assignment:** `= += -=` etc.\n",
    "\n",
    "**Tiny example:**"
   ]
  },
  {
   "cell_type": "code",
   "execution_count": null,
   "id": "f79305eb",
   "metadata": {},
   "outputs": [],
   "source": [
    "# Flag potentially high BMI and age threshold\n",
    "is_high_bmi = bmi >= 30\n",
    "is_elderly = age >= 65\n",
    "risk_flag = is_high_bmi or (is_elderly and is_smoker)\n",
    "is_high_bmi, is_elderly, is_smoker, risk_flag"
   ]
  },
  {
   "cell_type": "markdown",
   "id": "b6e90ed5",
   "metadata": {},
   "source": [
    "**Your Turn (1 min):**  \n",
    "Change the thresholds (e.g., `age >= 70`) and re-run. What happens to `risk_flag`?"
   ]
  },
  {
   "cell_type": "code",
   "execution_count": null,
   "id": "fdcf2f39",
   "metadata": {},
   "outputs": [],
   "source": [
    "# Add your code here"
   ]
  },
  {
   "cell_type": "markdown",
   "id": "23023834",
   "metadata": {},
   "source": [
    "## 3) Iteration\n",
    "\n",
    "- Use `for` to loop through sequences; `if` to branch.\n",
    "- Quick pattern: iterate over records and derive new values.\n",
    "\n",
    "**Tiny example:**"
   ]
  },
  {
   "cell_type": "code",
   "execution_count": null,
   "id": "21bc1ee4",
   "metadata": {},
   "outputs": [],
   "source": [
    "# Batch-calculate BMI for a small cohort\n",
    "cohort = [\n",
    "    {\"id\": \"UOM-0001\", \"height_m\": 1.70, \"weight_kg\": 85},\n",
    "    {\"id\": \"UOM-0002\", \"height_m\": 1.60, \"weight_kg\": 60},\n",
    "    {\"id\": \"UOM-0003\", \"height_m\": 1.75, \"weight_kg\": 70},\n",
    "]\n",
    "\n",
    "for rec in cohort:\n",
    "    h, w = rec[\"height_m\"], rec[\"weight_kg\"]\n",
    "    rec[\"bmi\"] = round(w / (h ** 2), 1)\n",
    "\n",
    "cohort"
   ]
  },
  {
   "cell_type": "markdown",
   "id": "fdd62690",
   "metadata": {},
   "source": [
    "**Your Turn (2 min):**  \n",
    "Loop over `cohort` and add a `\"bmi_class\"` field with values like `\"underweight\"`, `\"healthy\"`, `\"overweight\"`, `\"obese\"` using simple cut‑offs."
   ]
  },
  {
   "cell_type": "code",
   "execution_count": 18,
   "id": "338065c4",
   "metadata": {},
   "outputs": [],
   "source": [
    "# Add your code here"
   ]
  },
  {
   "cell_type": "markdown",
   "id": "d5c0cfdb",
   "metadata": {},
   "source": [
    "## 4) Functions\n",
    "\n",
    "- Package logic for reuse and testing.\n",
    "- Keep functions small, single‑purpose, and named clearly.\n",
    "\n",
    "**Tiny example:**"
   ]
  },
  {
   "cell_type": "code",
   "execution_count": null,
   "id": "09078ff4",
   "metadata": {},
   "outputs": [],
   "source": [
    "def bmi_value(weight_kg: float, height_m: float) -> float:\n",
    "    \"\"\"Return BMI to 1 decimal place, guarding against zero/negative height.\"\"\"\n",
    "    if height_m <= 0:\n",
    "        raise ValueError(\"height_m must be > 0\")\n",
    "    return round(weight_kg / (height_m ** 2), 1)\n",
    "\n",
    "def bmi_class(bmi: float) -> str:\n",
    "    if bmi < 18.5: \n",
    "        return \"underweight\"\n",
    "    elif bmi < 25:\n",
    "        return \"healthy\"\n",
    "    elif bmi < 30:\n",
    "        return \"overweight\"\n",
    "    else:\n",
    "        return \"obese\"\n",
    "\n",
    "# Try them\n",
    "b = bmi_value(72, 1.68)\n",
    "b, bmi_class(b)"
   ]
  },
  {
   "cell_type": "markdown",
   "id": "be92d0a7",
   "metadata": {},
   "source": [
    "**Your Turn (3 min):**  \n",
    "Refactor your cohort BMI loop to **use** `bmi_value` and `bmi_class`. Print one line per patient using f-strings."
   ]
  },
  {
   "cell_type": "code",
   "execution_count": 18,
   "id": "d93c8db5",
   "metadata": {},
   "outputs": [],
   "source": [
    "# Add your code here"
   ]
  },
  {
   "cell_type": "markdown",
   "id": "02d3b881",
   "metadata": {},
   "source": [
    "## 5) Testing & Error Handling\n",
    "\n",
    "- **Exceptions** signal problems; catch with `try/except` to handle gracefully.\n",
    "- **Lightweight tests** (assertions) help prevent regressions.\n",
    "\n",
    "**Tiny example:**"
   ]
  },
  {
   "cell_type": "code",
   "execution_count": null,
   "id": "359c9739",
   "metadata": {},
   "outputs": [],
   "source": [
    "# Graceful handling\n",
    "samples = [(72, 1.68), (70, 0), (60, 1.65)]\n",
    "results = []\n",
    "for w, h in samples:\n",
    "    try:\n",
    "        results.append(bmi_value(w, h))\n",
    "    except ValueError as e:\n",
    "        results.append(f\"Error: {e}\")\n",
    "results"
   ]
  },
  {
   "cell_type": "markdown",
   "id": "711b52c7",
   "metadata": {},
   "source": [
    "**Assertions:**"
   ]
  },
  {
   "cell_type": "code",
   "execution_count": null,
   "id": "4be74add",
   "metadata": {},
   "outputs": [],
   "source": [
    "# Very small sanity checks (not a full test suite)\n",
    "assert bmi_value(72, 1.68) == round(72/(1.68**2), 1)\n",
    "assert bmi_class(17.9) == \"underweight\"\n",
    "assert bmi_class(24.9) == \"healthy\"\n",
    "assert bmi_class(29.9) == \"overweight\"\n",
    "assert bmi_class(30.0) == \"obese\"\n",
    "\"All simple checks passed!\"\n"
   ]
  },
  {
   "cell_type": "markdown",
   "id": "3e35b224",
   "metadata": {},
   "source": [
    "### Wrap‑Up\n",
    "\n",
    "- You saw variables, data structures, operators, iteration, functions, and basic testing/exception handling in a single pass.\n",
    "- Keep examples health‑data‑centric (IDs, BMI, meds) to make ideas concrete.\n",
    "- In your detailed notebooks, you’ll go deeper with richer examples and exercises.\n",
    "\n",
    "> Tip: When something feels tricky, extract a tiny function and add two or three `assert` checks. Small steps win.\n"
   ]
  }
 ],
 "metadata": {
  "kernelspec": {
   "display_name": "Python 3 (ipykernel)",
   "language": "python",
   "name": "python3"
  },
  "language_info": {
   "codemirror_mode": {
    "name": "ipython",
    "version": 3
   },
   "file_extension": ".py",
   "mimetype": "text/x-python",
   "name": "python",
   "nbconvert_exporter": "python",
   "pygments_lexer": "ipython3",
   "version": "3.11.5"
  }
 },
 "nbformat": 4,
 "nbformat_minor": 5
}
